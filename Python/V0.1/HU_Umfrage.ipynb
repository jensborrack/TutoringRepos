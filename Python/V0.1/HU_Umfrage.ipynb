{
 "cells": [
  {
   "cell_type": "code",
   "execution_count": 1,
   "metadata": {},
   "outputs": [],
   "source": [
    "import pyreadstat #reading sas, spss etc\n",
    "import pandas as pd  #for the stats\n",
    "import numpy as np #for the stats\n",
    "import scipy as scipy #for the stats"
   ]
  },
  {
   "cell_type": "code",
   "execution_count": 2,
   "metadata": {},
   "outputs": [],
   "source": [
    "######################### data manipulation#################################\n",
    "#read spss file as pandas DF\n",
    "df, meta = pyreadstat.read_sav(\"C:\\\\Users\\\\Jens\\\\Documents\\\\2019\\\\Python\\\\V0.1\\\\data.sav\", apply_value_formats=True, formats_as_category=True)"
   ]
  },
  {
   "cell_type": "code",
   "execution_count": 3,
   "metadata": {
    "scrolled": true
   },
   "outputs": [
    {
     "data": {
      "text/html": [
       "<div>\n",
       "<style scoped>\n",
       "    .dataframe tbody tr th:only-of-type {\n",
       "        vertical-align: middle;\n",
       "    }\n",
       "\n",
       "    .dataframe tbody tr th {\n",
       "        vertical-align: top;\n",
       "    }\n",
       "\n",
       "    .dataframe thead th {\n",
       "        text-align: right;\n",
       "    }\n",
       "</style>\n",
       "<table border=\"1\" class=\"dataframe\">\n",
       "  <thead>\n",
       "    <tr style=\"text-align: right;\">\n",
       "      <th></th>\n",
       "      <th>id</th>\n",
       "      <th>lastpage</th>\n",
       "      <th>b2</th>\n",
       "      <th>D1_SQ005</th>\n",
       "      <th>E1</th>\n",
       "      <th>E11</th>\n",
       "      <th>E2_SQ001</th>\n",
       "      <th>E2_SQ002</th>\n",
       "      <th>E2_SQ003</th>\n",
       "      <th>E22</th>\n",
       "      <th>...</th>\n",
       "      <th>E3_SQ003</th>\n",
       "      <th>E3_SQ004</th>\n",
       "      <th>E3_SQ005</th>\n",
       "      <th>E3_SQ006</th>\n",
       "      <th>E3_SQ007</th>\n",
       "      <th>E3_SQ008</th>\n",
       "      <th>E3_SQ009</th>\n",
       "      <th>E33</th>\n",
       "      <th>G1</th>\n",
       "      <th>H1</th>\n",
       "    </tr>\n",
       "  </thead>\n",
       "  <tbody>\n",
       "    <tr>\n",
       "      <th>0</th>\n",
       "      <td>158.0</td>\n",
       "      <td>19.0</td>\n",
       "      <td>Student</td>\n",
       "      <td>A2</td>\n",
       "      <td>Strukturierte Raumgestaltung mit mehreren Kabinen</td>\n",
       "      <td>Besseres Licht- und Raumkonzept im Magazin, da...</td>\n",
       "      <td>1 = sehr wichtig</td>\n",
       "      <td>4</td>\n",
       "      <td>2</td>\n",
       "      <td>Whiteboard o.ä. wäre nützlich.</td>\n",
       "      <td>...</td>\n",
       "      <td>1 = sehr wichtig</td>\n",
       "      <td>5 = überhaupt nicht wichtig</td>\n",
       "      <td>5 = überhaupt nicht wichtig</td>\n",
       "      <td>2</td>\n",
       "      <td>2</td>\n",
       "      <td>1 = sehr wichtig</td>\n",
       "      <td>2</td>\n",
       "      <td></td>\n",
       "      <td>Maskulin</td>\n",
       "      <td></td>\n",
       "    </tr>\n",
       "    <tr>\n",
       "      <th>1</th>\n",
       "      <td>270.0</td>\n",
       "      <td>19.0</td>\n",
       "      <td>Student</td>\n",
       "      <td>A2</td>\n",
       "      <td>Mischform (teilweise strukturiert, teilweise f...</td>\n",
       "      <td>Heller raum, weniger grau, verstellbare stühle...</td>\n",
       "      <td>1 = sehr wichtig</td>\n",
       "      <td>1 = sehr wichtig</td>\n",
       "      <td>1 = sehr wichtig</td>\n",
       "      <td>Verschlossene getränke abseits von wasser mitn...</td>\n",
       "      <td>...</td>\n",
       "      <td>1 = sehr wichtig</td>\n",
       "      <td>3</td>\n",
       "      <td>5 = überhaupt nicht wichtig</td>\n",
       "      <td>2</td>\n",
       "      <td>4</td>\n",
       "      <td>1 = sehr wichtig</td>\n",
       "      <td>1 = sehr wichtig</td>\n",
       "      <td></td>\n",
       "      <td>Feminin</td>\n",
       "      <td></td>\n",
       "    </tr>\n",
       "    <tr>\n",
       "      <th>2</th>\n",
       "      <td>145.0</td>\n",
       "      <td>19.0</td>\n",
       "      <td>Student</td>\n",
       "      <td>A2</td>\n",
       "      <td>Mischform (teilweise strukturiert, teilweise f...</td>\n",
       "      <td>Die Unibib der TU Dresden ist ein wunderbares ...</td>\n",
       "      <td>2</td>\n",
       "      <td>1 = sehr wichtig</td>\n",
       "      <td>3</td>\n",
       "      <td>technisches equipment muss vorhanden sein, z.b...</td>\n",
       "      <td>...</td>\n",
       "      <td>1 = sehr wichtig</td>\n",
       "      <td>2</td>\n",
       "      <td>3</td>\n",
       "      <td>3</td>\n",
       "      <td>2</td>\n",
       "      <td>1 = sehr wichtig</td>\n",
       "      <td>2</td>\n",
       "      <td></td>\n",
       "      <td>Maskulin</td>\n",
       "      <td></td>\n",
       "    </tr>\n",
       "    <tr>\n",
       "      <th>3</th>\n",
       "      <td>268.0</td>\n",
       "      <td>19.0</td>\n",
       "      <td>Student</td>\n",
       "      <td>A3</td>\n",
       "      <td>Strukturierte Raumgestaltung mit mehreren Kabinen</td>\n",
       "      <td></td>\n",
       "      <td>1 = sehr wichtig</td>\n",
       "      <td>2</td>\n",
       "      <td>2</td>\n",
       "      <td>Tageslicht</td>\n",
       "      <td>...</td>\n",
       "      <td>1 = sehr wichtig</td>\n",
       "      <td>5 = überhaupt nicht wichtig</td>\n",
       "      <td>5 = überhaupt nicht wichtig</td>\n",
       "      <td>3</td>\n",
       "      <td>2</td>\n",
       "      <td>1 = sehr wichtig</td>\n",
       "      <td>1 = sehr wichtig</td>\n",
       "      <td></td>\n",
       "      <td>Maskulin</td>\n",
       "      <td></td>\n",
       "    </tr>\n",
       "    <tr>\n",
       "      <th>4</th>\n",
       "      <td>364.0</td>\n",
       "      <td>19.0</td>\n",
       "      <td>Student</td>\n",
       "      <td>A2</td>\n",
       "      <td>Flexible Raumgestaltung mit beweglichen Möbeln...</td>\n",
       "      <td></td>\n",
       "      <td>2</td>\n",
       "      <td>3</td>\n",
       "      <td>2</td>\n",
       "      <td>Siehe vorheriger punkt und auch zusammen arbei...</td>\n",
       "      <td>...</td>\n",
       "      <td>3</td>\n",
       "      <td>4</td>\n",
       "      <td>5 = überhaupt nicht wichtig</td>\n",
       "      <td>4</td>\n",
       "      <td>3</td>\n",
       "      <td>1 = sehr wichtig</td>\n",
       "      <td>3</td>\n",
       "      <td>Pflanzen</td>\n",
       "      <td>Feminin</td>\n",
       "      <td></td>\n",
       "    </tr>\n",
       "  </tbody>\n",
       "</table>\n",
       "<p>5 rows × 22 columns</p>\n",
       "</div>"
      ],
      "text/plain": [
       "      id  lastpage       b2 D1_SQ005  \\\n",
       "0  158.0      19.0  Student       A2   \n",
       "1  270.0      19.0  Student       A2   \n",
       "2  145.0      19.0  Student       A2   \n",
       "3  268.0      19.0  Student       A3   \n",
       "4  364.0      19.0  Student       A2   \n",
       "\n",
       "                                                  E1  \\\n",
       "0  Strukturierte Raumgestaltung mit mehreren Kabinen   \n",
       "1  Mischform (teilweise strukturiert, teilweise f...   \n",
       "2  Mischform (teilweise strukturiert, teilweise f...   \n",
       "3  Strukturierte Raumgestaltung mit mehreren Kabinen   \n",
       "4  Flexible Raumgestaltung mit beweglichen Möbeln...   \n",
       "\n",
       "                                                 E11          E2_SQ001  \\\n",
       "0  Besseres Licht- und Raumkonzept im Magazin, da...  1 = sehr wichtig   \n",
       "1  Heller raum, weniger grau, verstellbare stühle...  1 = sehr wichtig   \n",
       "2  Die Unibib der TU Dresden ist ein wunderbares ...                 2   \n",
       "3                                                     1 = sehr wichtig   \n",
       "4                                                                    2   \n",
       "\n",
       "           E2_SQ002          E2_SQ003  \\\n",
       "0                 4                 2   \n",
       "1  1 = sehr wichtig  1 = sehr wichtig   \n",
       "2  1 = sehr wichtig                 3   \n",
       "3                 2                 2   \n",
       "4                 3                 2   \n",
       "\n",
       "                                                 E22  ...          E3_SQ003  \\\n",
       "0                     Whiteboard o.ä. wäre nützlich.  ...  1 = sehr wichtig   \n",
       "1  Verschlossene getränke abseits von wasser mitn...  ...  1 = sehr wichtig   \n",
       "2  technisches equipment muss vorhanden sein, z.b...  ...  1 = sehr wichtig   \n",
       "3                                         Tageslicht  ...  1 = sehr wichtig   \n",
       "4  Siehe vorheriger punkt und auch zusammen arbei...  ...                 3   \n",
       "\n",
       "                      E3_SQ004                     E3_SQ005 E3_SQ006 E3_SQ007  \\\n",
       "0  5 = überhaupt nicht wichtig  5 = überhaupt nicht wichtig        2        2   \n",
       "1                            3  5 = überhaupt nicht wichtig        2        4   \n",
       "2                            2                            3        3        2   \n",
       "3  5 = überhaupt nicht wichtig  5 = überhaupt nicht wichtig        3        2   \n",
       "4                            4  5 = überhaupt nicht wichtig        4        3   \n",
       "\n",
       "           E3_SQ008          E3_SQ009       E33        G1 H1  \n",
       "0  1 = sehr wichtig                 2            Maskulin     \n",
       "1  1 = sehr wichtig  1 = sehr wichtig             Feminin     \n",
       "2  1 = sehr wichtig                 2            Maskulin     \n",
       "3  1 = sehr wichtig  1 = sehr wichtig            Maskulin     \n",
       "4  1 = sehr wichtig                 3  Pflanzen   Feminin     \n",
       "\n",
       "[5 rows x 22 columns]"
      ]
     },
     "execution_count": 3,
     "metadata": {},
     "output_type": "execute_result"
    }
   ],
   "source": [
    "#see what we've got\n",
    "df.head()"
   ]
  },
  {
   "cell_type": "code",
   "execution_count": 4,
   "metadata": {},
   "outputs": [
    {
     "data": {
      "text/plain": [
       "id           float64\n",
       "lastpage     float64\n",
       "b2          category\n",
       "D1_SQ005    category\n",
       "E1          category\n",
       "E11           object\n",
       "E2_SQ001    category\n",
       "E2_SQ002    category\n",
       "E2_SQ003    category\n",
       "E22           object\n",
       "E3_SQ001    category\n",
       "E3_SQ002    category\n",
       "E3_SQ003    category\n",
       "E3_SQ004    category\n",
       "E3_SQ005    category\n",
       "E3_SQ006    category\n",
       "E3_SQ007    category\n",
       "E3_SQ008    category\n",
       "E3_SQ009    category\n",
       "E33           object\n",
       "G1          category\n",
       "H1            object\n",
       "dtype: object"
      ]
     },
     "execution_count": 4,
     "metadata": {},
     "output_type": "execute_result"
    }
   ],
   "source": [
    "#how are the variables defined in SPSS?\n",
    "df.dtypes"
   ]
  },
  {
   "cell_type": "code",
   "execution_count": 5,
   "metadata": {},
   "outputs": [],
   "source": [
    "#looking good, no further data manipulation necessary"
   ]
  },
  {
   "cell_type": "code",
   "execution_count": 6,
   "metadata": {},
   "outputs": [],
   "source": [
    "#######################Hypothesis Tests########################\n",
    "from scipy.stats import chi2"
   ]
  },
  {
   "cell_type": "code",
   "execution_count": 7,
   "metadata": {},
   "outputs": [
    {
     "name": "stdout",
     "output_type": "stream",
     "text": [
      "Kontingenztabelle E1\n"
     ]
    },
    {
     "data": {
      "text/html": [
       "<div>\n",
       "<style scoped>\n",
       "    .dataframe tbody tr th:only-of-type {\n",
       "        vertical-align: middle;\n",
       "    }\n",
       "\n",
       "    .dataframe tbody tr th {\n",
       "        vertical-align: top;\n",
       "    }\n",
       "\n",
       "    .dataframe thead th {\n",
       "        text-align: right;\n",
       "    }\n",
       "</style>\n",
       "<table border=\"1\" class=\"dataframe\">\n",
       "  <thead>\n",
       "    <tr style=\"text-align: right;\">\n",
       "      <th>E1</th>\n",
       "      <th>Flexible Raumgestaltung mit beweglichen Möbeln und mobilen Trennelementen</th>\n",
       "      <th>Keine Präferenz</th>\n",
       "      <th>Mischform (teilweise strukturiert, teilweise flexibel)</th>\n",
       "      <th>Strukturierte Raumgestaltung mit mehreren Kabinen</th>\n",
       "    </tr>\n",
       "    <tr>\n",
       "      <th>G1</th>\n",
       "      <th></th>\n",
       "      <th></th>\n",
       "      <th></th>\n",
       "      <th></th>\n",
       "    </tr>\n",
       "  </thead>\n",
       "  <tbody>\n",
       "    <tr>\n",
       "      <th>Feminin</th>\n",
       "      <td>14</td>\n",
       "      <td>9</td>\n",
       "      <td>67</td>\n",
       "      <td>31</td>\n",
       "    </tr>\n",
       "    <tr>\n",
       "      <th>Maskulin</th>\n",
       "      <td>11</td>\n",
       "      <td>10</td>\n",
       "      <td>33</td>\n",
       "      <td>26</td>\n",
       "    </tr>\n",
       "    <tr>\n",
       "      <th>Nicht-Binär</th>\n",
       "      <td>1</td>\n",
       "      <td>1</td>\n",
       "      <td>6</td>\n",
       "      <td>1</td>\n",
       "    </tr>\n",
       "  </tbody>\n",
       "</table>\n",
       "</div>"
      ],
      "text/plain": [
       "E1           Flexible Raumgestaltung mit beweglichen Möbeln und mobilen Trennelementen  \\\n",
       "G1                                                                                       \n",
       "Feminin                                                     14                           \n",
       "Maskulin                                                    11                           \n",
       "Nicht-Binär                                                  1                           \n",
       "\n",
       "E1           Keine Präferenz  \\\n",
       "G1                             \n",
       "Feminin                    9   \n",
       "Maskulin                  10   \n",
       "Nicht-Binär                1   \n",
       "\n",
       "E1           Mischform (teilweise strukturiert, teilweise flexibel)  \\\n",
       "G1                                                                    \n",
       "Feminin                                                     67        \n",
       "Maskulin                                                    33        \n",
       "Nicht-Binär                                                  6        \n",
       "\n",
       "E1           Strukturierte Raumgestaltung mit mehreren Kabinen  \n",
       "G1                                                              \n",
       "Feminin                                                     31  \n",
       "Maskulin                                                    26  \n",
       "Nicht-Binär                                                  1  "
      ]
     },
     "execution_count": 7,
     "metadata": {},
     "output_type": "execute_result"
    }
   ],
   "source": [
    "#analyze E1 'Welche Form der Raumgestaltung würden Sie für Gruppenarbeitsplätze bevorzugen?'\n",
    "#Pearson Chi² Test according to https://www.methodenberatung.uzh.ch/de/datenanalyse_spss/zusammenhaenge/pearsonzush.html\n",
    "e1=pd.crosstab(df['G1'],df['E1']) #create contingency table\n",
    "print('Kontingenztabelle E1')\n",
    "e1"
   ]
  },
  {
   "cell_type": "code",
   "execution_count": 8,
   "metadata": {},
   "outputs": [],
   "source": [
    "#Problem: According to https://www.methodenberatung.uzh.ch/de/datenanalyse_spss/zusammenhaenge/pearsonzush.html Pearson Chi² \n",
    "#must not be used on cell sizes < 5. The Fisher Test (f-test) could be used alternatively, but only works on 2x2 contingencies\n",
    "#-> we would need to exclude NB gender to test H0 via Pearson Chi²"
   ]
  },
  {
   "cell_type": "code",
   "execution_count": 9,
   "metadata": {},
   "outputs": [
    {
     "name": "stdout",
     "output_type": "stream",
     "text": [
      "Kontingenztabelle E1 prozentual\n"
     ]
    },
    {
     "data": {
      "text/html": [
       "<div>\n",
       "<style scoped>\n",
       "    .dataframe tbody tr th:only-of-type {\n",
       "        vertical-align: middle;\n",
       "    }\n",
       "\n",
       "    .dataframe tbody tr th {\n",
       "        vertical-align: top;\n",
       "    }\n",
       "\n",
       "    .dataframe thead th {\n",
       "        text-align: right;\n",
       "    }\n",
       "</style>\n",
       "<table border=\"1\" class=\"dataframe\">\n",
       "  <thead>\n",
       "    <tr style=\"text-align: right;\">\n",
       "      <th>E1</th>\n",
       "      <th>Flexible Raumgestaltung mit beweglichen Möbeln und mobilen Trennelementen</th>\n",
       "      <th>Keine Präferenz</th>\n",
       "      <th>Mischform (teilweise strukturiert, teilweise flexibel)</th>\n",
       "      <th>Strukturierte Raumgestaltung mit mehreren Kabinen</th>\n",
       "    </tr>\n",
       "    <tr>\n",
       "      <th>G1</th>\n",
       "      <th></th>\n",
       "      <th></th>\n",
       "      <th></th>\n",
       "      <th></th>\n",
       "    </tr>\n",
       "  </thead>\n",
       "  <tbody>\n",
       "    <tr>\n",
       "      <th>Feminin</th>\n",
       "      <td>11.570248</td>\n",
       "      <td>7.438017</td>\n",
       "      <td>55.371901</td>\n",
       "      <td>25.619835</td>\n",
       "    </tr>\n",
       "    <tr>\n",
       "      <th>Maskulin</th>\n",
       "      <td>13.750000</td>\n",
       "      <td>12.500000</td>\n",
       "      <td>41.250000</td>\n",
       "      <td>32.500000</td>\n",
       "    </tr>\n",
       "    <tr>\n",
       "      <th>Nicht-Binär</th>\n",
       "      <td>11.111111</td>\n",
       "      <td>11.111111</td>\n",
       "      <td>66.666667</td>\n",
       "      <td>11.111111</td>\n",
       "    </tr>\n",
       "  </tbody>\n",
       "</table>\n",
       "</div>"
      ],
      "text/plain": [
       "E1           Flexible Raumgestaltung mit beweglichen Möbeln und mobilen Trennelementen  \\\n",
       "G1                                                                                       \n",
       "Feminin                                              11.570248                           \n",
       "Maskulin                                             13.750000                           \n",
       "Nicht-Binär                                          11.111111                           \n",
       "\n",
       "E1           Keine Präferenz  \\\n",
       "G1                             \n",
       "Feminin             7.438017   \n",
       "Maskulin           12.500000   \n",
       "Nicht-Binär        11.111111   \n",
       "\n",
       "E1           Mischform (teilweise strukturiert, teilweise flexibel)  \\\n",
       "G1                                                                    \n",
       "Feminin                                              55.371901        \n",
       "Maskulin                                             41.250000        \n",
       "Nicht-Binär                                          66.666667        \n",
       "\n",
       "E1           Strukturierte Raumgestaltung mit mehreren Kabinen  \n",
       "G1                                                              \n",
       "Feminin                                              25.619835  \n",
       "Maskulin                                             32.500000  \n",
       "Nicht-Binär                                          11.111111  "
      ]
     },
     "execution_count": 9,
     "metadata": {},
     "output_type": "execute_result"
    }
   ],
   "source": [
    "# and in percentages?\n",
    "print('Kontingenztabelle E1 prozentual')\n",
    "e1.apply(lambda row: row*100/row.sum(),axis=1)"
   ]
  },
  {
   "cell_type": "code",
   "execution_count": 10,
   "metadata": {},
   "outputs": [
    {
     "name": "stdout",
     "output_type": "stream",
     "text": [
      "p value: 0.4621101585347771\n",
      "-> Independent (reject H0)\n"
     ]
    }
   ],
   "source": [
    "# H0 = 'E1:Es gibt einen Zusammenhang zwischen Gender und Raumauswahlpräferenz'\n",
    "sig = 0.95 #'p value' or 'significance' of 0.95 is pretty much standard in science\n",
    "# Calculation of degrees of freedom (dof) : (rows - 1) * (cols - 1)\n",
    "dof = 3*2\n",
    "stat, p, dof, expected = scipy.stats.chi2_contingency(e1) #https://machinelearningmastery.com/chi-squared-test-for-machine-learning/\n",
    "#print(expected) #This is what the expected values for a chi² distribution would look like\n",
    "critical = chi2.ppf(sig, dof)\n",
    "print('p value: '+str(p))\n",
    "if abs(stat) >= critical:\n",
    "\tprint('-> Dependent (fail to reject H0)')\n",
    "else:\n",
    "\tprint('-> Independent (reject H0)')"
   ]
  },
  {
   "cell_type": "code",
   "execution_count": 11,
   "metadata": {},
   "outputs": [
    {
     "name": "stdout",
     "output_type": "stream",
     "text": [
      "Kontingenztabelle E1a\n"
     ]
    },
    {
     "data": {
      "text/html": [
       "<div>\n",
       "<style scoped>\n",
       "    .dataframe tbody tr th:only-of-type {\n",
       "        vertical-align: middle;\n",
       "    }\n",
       "\n",
       "    .dataframe tbody tr th {\n",
       "        vertical-align: top;\n",
       "    }\n",
       "\n",
       "    .dataframe thead th {\n",
       "        text-align: right;\n",
       "    }\n",
       "</style>\n",
       "<table border=\"1\" class=\"dataframe\">\n",
       "  <thead>\n",
       "    <tr style=\"text-align: right;\">\n",
       "      <th>E1</th>\n",
       "      <th>Flexible Raumgestaltung mit beweglichen Möbeln und mobilen Trennelementen</th>\n",
       "      <th>Keine Präferenz</th>\n",
       "      <th>Mischform (teilweise strukturiert, teilweise flexibel)</th>\n",
       "      <th>Strukturierte Raumgestaltung mit mehreren Kabinen</th>\n",
       "    </tr>\n",
       "    <tr>\n",
       "      <th>G1</th>\n",
       "      <th></th>\n",
       "      <th></th>\n",
       "      <th></th>\n",
       "      <th></th>\n",
       "    </tr>\n",
       "  </thead>\n",
       "  <tbody>\n",
       "    <tr>\n",
       "      <th>Feminin</th>\n",
       "      <td>14</td>\n",
       "      <td>9</td>\n",
       "      <td>67</td>\n",
       "      <td>31</td>\n",
       "    </tr>\n",
       "    <tr>\n",
       "      <th>Maskulin</th>\n",
       "      <td>11</td>\n",
       "      <td>10</td>\n",
       "      <td>33</td>\n",
       "      <td>26</td>\n",
       "    </tr>\n",
       "  </tbody>\n",
       "</table>\n",
       "</div>"
      ],
      "text/plain": [
       "E1        Flexible Raumgestaltung mit beweglichen Möbeln und mobilen Trennelementen  \\\n",
       "G1                                                                                    \n",
       "Feminin                                                  14                           \n",
       "Maskulin                                                 11                           \n",
       "\n",
       "E1        Keine Präferenz  \\\n",
       "G1                          \n",
       "Feminin                 9   \n",
       "Maskulin               10   \n",
       "\n",
       "E1        Mischform (teilweise strukturiert, teilweise flexibel)  \\\n",
       "G1                                                                 \n",
       "Feminin                                                  67        \n",
       "Maskulin                                                 33        \n",
       "\n",
       "E1        Strukturierte Raumgestaltung mit mehreren Kabinen  \n",
       "G1                                                           \n",
       "Feminin                                                  31  \n",
       "Maskulin                                                 26  "
      ]
     },
     "execution_count": 11,
     "metadata": {},
     "output_type": "execute_result"
    }
   ],
   "source": [
    "#What would happen if we exclude NB gender?\n",
    "#df[(df['G1'] != 'Nicht-Binär')]['G1']\n",
    "e1a=pd.crosstab(df[(df['G1'] != 'Nicht-Binär')]['G1'],df[(df['G1'] != 'Nicht-Binär')]['E1']) #create contingency table\n",
    "#e1=pd.crosstab(df['G1'],df['E1']) #create contingency table\n",
    "print('Kontingenztabelle E1a')\n",
    "e1a"
   ]
  },
  {
   "cell_type": "code",
   "execution_count": 12,
   "metadata": {},
   "outputs": [
    {
     "name": "stdout",
     "output_type": "stream",
     "text": [
      "p value: 0.23829113873392216\n",
      "-> Independent (reject H0)\n"
     ]
    }
   ],
   "source": [
    "#E1a\n",
    "dof = 3*1\n",
    "stat, p, dof, expected = scipy.stats.chi2_contingency(e1a) #https://machinelearningmastery.com/chi-squared-test-for-machine-learning/\n",
    "critical = chi2.ppf(sig, dof)\n",
    "print('p value: '+str(p))\n",
    "if abs(stat) >= critical:\n",
    "\tprint('-> Dependent (fail to reject H0)')\n",
    "else:\n",
    "\tprint('-> Independent (reject H0)')"
   ]
  },
  {
   "cell_type": "code",
   "execution_count": 13,
   "metadata": {},
   "outputs": [],
   "source": [
    "#it's even less significant, continue other hypothesis tests"
   ]
  },
  {
   "cell_type": "code",
   "execution_count": 14,
   "metadata": {},
   "outputs": [
    {
     "name": "stdout",
     "output_type": "stream",
     "text": [
      "Kontingenztabelle E2_SQ001\n"
     ]
    },
    {
     "data": {
      "text/html": [
       "<div>\n",
       "<style scoped>\n",
       "    .dataframe tbody tr th:only-of-type {\n",
       "        vertical-align: middle;\n",
       "    }\n",
       "\n",
       "    .dataframe tbody tr th {\n",
       "        vertical-align: top;\n",
       "    }\n",
       "\n",
       "    .dataframe thead th {\n",
       "        text-align: right;\n",
       "    }\n",
       "</style>\n",
       "<table border=\"1\" class=\"dataframe\">\n",
       "  <thead>\n",
       "    <tr style=\"text-align: right;\">\n",
       "      <th>E2_SQ001</th>\n",
       "      <th>1 = sehr wichtig</th>\n",
       "      <th>2</th>\n",
       "      <th>3</th>\n",
       "      <th>4</th>\n",
       "      <th>5 = überhaupt nicht wichtig</th>\n",
       "    </tr>\n",
       "    <tr>\n",
       "      <th>G1</th>\n",
       "      <th></th>\n",
       "      <th></th>\n",
       "      <th></th>\n",
       "      <th></th>\n",
       "      <th></th>\n",
       "    </tr>\n",
       "  </thead>\n",
       "  <tbody>\n",
       "    <tr>\n",
       "      <th>Feminin</th>\n",
       "      <td>52</td>\n",
       "      <td>43</td>\n",
       "      <td>15</td>\n",
       "      <td>8</td>\n",
       "      <td>3</td>\n",
       "    </tr>\n",
       "    <tr>\n",
       "      <th>Maskulin</th>\n",
       "      <td>43</td>\n",
       "      <td>16</td>\n",
       "      <td>11</td>\n",
       "      <td>7</td>\n",
       "      <td>3</td>\n",
       "    </tr>\n",
       "    <tr>\n",
       "      <th>Nicht-Binär</th>\n",
       "      <td>5</td>\n",
       "      <td>2</td>\n",
       "      <td>2</td>\n",
       "      <td>0</td>\n",
       "      <td>0</td>\n",
       "    </tr>\n",
       "  </tbody>\n",
       "</table>\n",
       "</div>"
      ],
      "text/plain": [
       "E2_SQ001     1 = sehr wichtig   2   3  4  5 = überhaupt nicht wichtig\n",
       "G1                                                                   \n",
       "Feminin                    52  43  15  8                            3\n",
       "Maskulin                   43  16  11  7                            3\n",
       "Nicht-Binär                 5   2   2  0                            0"
      ]
     },
     "execution_count": 14,
     "metadata": {},
     "output_type": "execute_result"
    }
   ],
   "source": [
    "#analyze E2_SQ001 'Unabhängig von den Öffnungszeiten der Bibliothek nutzbar'\n",
    "e2_1=pd.crosstab(df['G1'],df['E2_SQ001']) #create contingency table\n",
    "print('Kontingenztabelle E2_SQ001')\n",
    "e2_1"
   ]
  },
  {
   "cell_type": "code",
   "execution_count": 15,
   "metadata": {},
   "outputs": [
    {
     "name": "stdout",
     "output_type": "stream",
     "text": [
      "p value: 0.4739167543309717\n",
      "-> Independent (reject H1)\n"
     ]
    }
   ],
   "source": [
    "sig = 0.95 #'p value' or 'significance' of 0.95 is pretty much standard in science\n",
    "# Calculation of degrees of freedom (dof) : (rows - 1) * (cols - 1)\n",
    "dof = 4*2\n",
    "stat, p, dof, expected = scipy.stats.chi2_contingency(e2_1) #https://machinelearningmastery.com/chi-squared-test-for-machine-learning/\n",
    "#print(expected) #This is what the expected values for a chi² distribution would look like\n",
    "critical = chi2.ppf(sig, dof)\n",
    "print('p value: '+str(p))\n",
    "if abs(stat) >= critical:\n",
    "\tprint('-> Dependent (fail to reject H1)')\n",
    "else:\n",
    "\tprint('-> Independent (reject H1)')"
   ]
  },
  {
   "cell_type": "code",
   "execution_count": 16,
   "metadata": {},
   "outputs": [
    {
     "name": "stdout",
     "output_type": "stream",
     "text": [
      "Kontingenztabelle E2_SQ002\n"
     ]
    },
    {
     "data": {
      "text/html": [
       "<div>\n",
       "<style scoped>\n",
       "    .dataframe tbody tr th:only-of-type {\n",
       "        vertical-align: middle;\n",
       "    }\n",
       "\n",
       "    .dataframe tbody tr th {\n",
       "        vertical-align: top;\n",
       "    }\n",
       "\n",
       "    .dataframe thead th {\n",
       "        text-align: right;\n",
       "    }\n",
       "</style>\n",
       "<table border=\"1\" class=\"dataframe\">\n",
       "  <thead>\n",
       "    <tr style=\"text-align: right;\">\n",
       "      <th>E2_SQ002</th>\n",
       "      <th>1 = sehr wichtig</th>\n",
       "      <th>2</th>\n",
       "      <th>3</th>\n",
       "      <th>4</th>\n",
       "      <th>5 = überhaupt nicht wichtig</th>\n",
       "    </tr>\n",
       "    <tr>\n",
       "      <th>G1</th>\n",
       "      <th></th>\n",
       "      <th></th>\n",
       "      <th></th>\n",
       "      <th></th>\n",
       "      <th></th>\n",
       "    </tr>\n",
       "  </thead>\n",
       "  <tbody>\n",
       "    <tr>\n",
       "      <th>Feminin</th>\n",
       "      <td>54</td>\n",
       "      <td>34</td>\n",
       "      <td>22</td>\n",
       "      <td>3</td>\n",
       "      <td>8</td>\n",
       "    </tr>\n",
       "    <tr>\n",
       "      <th>Maskulin</th>\n",
       "      <td>29</td>\n",
       "      <td>26</td>\n",
       "      <td>11</td>\n",
       "      <td>10</td>\n",
       "      <td>4</td>\n",
       "    </tr>\n",
       "    <tr>\n",
       "      <th>Nicht-Binär</th>\n",
       "      <td>5</td>\n",
       "      <td>2</td>\n",
       "      <td>2</td>\n",
       "      <td>0</td>\n",
       "      <td>0</td>\n",
       "    </tr>\n",
       "  </tbody>\n",
       "</table>\n",
       "</div>"
      ],
      "text/plain": [
       "E2_SQ002     1 = sehr wichtig   2   3   4  5 = überhaupt nicht wichtig\n",
       "G1                                                                    \n",
       "Feminin                    54  34  22   3                            8\n",
       "Maskulin                   29  26  11  10                            4\n",
       "Nicht-Binär                 5   2   2   0                            0"
      ]
     },
     "execution_count": 16,
     "metadata": {},
     "output_type": "execute_result"
    }
   ],
   "source": [
    "#analyze E2_SQ002 \n",
    "e2_2=pd.crosstab(df['G1'],df['E2_SQ002']) #create contingency table\n",
    "print('Kontingenztabelle E2_SQ002')\n",
    "e2_2"
   ]
  },
  {
   "cell_type": "code",
   "execution_count": 17,
   "metadata": {},
   "outputs": [
    {
     "name": "stdout",
     "output_type": "stream",
     "text": [
      "p value: 0.1698526297854763\n",
      "-> Independent (reject H2)\n"
     ]
    }
   ],
   "source": [
    "sig = 0.95 #'p value' or 'significance' of 0.95 is pretty much standard in science\n",
    "# Calculation of degrees of freedom (dof) : (rows - 1) * (cols - 1)\n",
    "dof = 4*2\n",
    "stat, p, dof, expected = scipy.stats.chi2_contingency(e2_2) #https://machinelearningmastery.com/chi-squared-test-for-machine-learning/\n",
    "#print(expected) #This is what the expected values for a chi² distribution would look like\n",
    "critical = chi2.ppf(sig, dof)\n",
    "print('p value: '+str(p))\n",
    "if abs(stat) >= critical:\n",
    "\tprint('-> Dependent (fail to reject H2)')\n",
    "else:\n",
    "\tprint('-> Independent (reject H2)')"
   ]
  },
  {
   "cell_type": "code",
   "execution_count": 18,
   "metadata": {},
   "outputs": [
    {
     "name": "stdout",
     "output_type": "stream",
     "text": [
      "Kontingenztabelle E2_SQ003\n"
     ]
    },
    {
     "data": {
      "text/html": [
       "<div>\n",
       "<style scoped>\n",
       "    .dataframe tbody tr th:only-of-type {\n",
       "        vertical-align: middle;\n",
       "    }\n",
       "\n",
       "    .dataframe tbody tr th {\n",
       "        vertical-align: top;\n",
       "    }\n",
       "\n",
       "    .dataframe thead th {\n",
       "        text-align: right;\n",
       "    }\n",
       "</style>\n",
       "<table border=\"1\" class=\"dataframe\">\n",
       "  <thead>\n",
       "    <tr style=\"text-align: right;\">\n",
       "      <th>E2_SQ003</th>\n",
       "      <th>1 = sehr wichtig</th>\n",
       "      <th>2</th>\n",
       "      <th>3</th>\n",
       "      <th>4</th>\n",
       "      <th>5 = überhaupt nicht wichtig</th>\n",
       "    </tr>\n",
       "    <tr>\n",
       "      <th>G1</th>\n",
       "      <th></th>\n",
       "      <th></th>\n",
       "      <th></th>\n",
       "      <th></th>\n",
       "      <th></th>\n",
       "    </tr>\n",
       "  </thead>\n",
       "  <tbody>\n",
       "    <tr>\n",
       "      <th>Feminin</th>\n",
       "      <td>58</td>\n",
       "      <td>35</td>\n",
       "      <td>18</td>\n",
       "      <td>6</td>\n",
       "      <td>4</td>\n",
       "    </tr>\n",
       "    <tr>\n",
       "      <th>Maskulin</th>\n",
       "      <td>41</td>\n",
       "      <td>22</td>\n",
       "      <td>8</td>\n",
       "      <td>3</td>\n",
       "      <td>6</td>\n",
       "    </tr>\n",
       "    <tr>\n",
       "      <th>Nicht-Binär</th>\n",
       "      <td>5</td>\n",
       "      <td>1</td>\n",
       "      <td>2</td>\n",
       "      <td>1</td>\n",
       "      <td>0</td>\n",
       "    </tr>\n",
       "  </tbody>\n",
       "</table>\n",
       "</div>"
      ],
      "text/plain": [
       "E2_SQ003     1 = sehr wichtig   2   3  4  5 = überhaupt nicht wichtig\n",
       "G1                                                                   \n",
       "Feminin                    58  35  18  6                            4\n",
       "Maskulin                   41  22   8  3                            6\n",
       "Nicht-Binär                 5   1   2  1                            0"
      ]
     },
     "execution_count": 18,
     "metadata": {},
     "output_type": "execute_result"
    }
   ],
   "source": [
    "#analyze E2_SQ003 'Unabhängig von den Öffnungszeiten der Bibliothek nutzbar'\n",
    "e2_3=pd.crosstab(df['G1'],df['E2_SQ003']) #create contingency table\n",
    "print('Kontingenztabelle E2_SQ003')\n",
    "e2_3"
   ]
  },
  {
   "cell_type": "code",
   "execution_count": 19,
   "metadata": {},
   "outputs": [
    {
     "name": "stdout",
     "output_type": "stream",
     "text": [
      "p value: 0.6779116305496574\n",
      "-> Independent (reject H3)\n"
     ]
    }
   ],
   "source": [
    "sig = 0.95 #'p value' or 'significance' of 0.95 is pretty much standard in science\n",
    "# Calculation of degrees of freedom (dof) : (rows - 1) * (cols - 1)\n",
    "dof = 4*2\n",
    "stat, p, dof, expected = scipy.stats.chi2_contingency(e2_3) #https://machinelearningmastery.com/chi-squared-test-for-machine-learning/\n",
    "#print(expected) #This is what the expected values for a chi² distribution would look like\n",
    "critical = chi2.ppf(sig, dof)\n",
    "print('p value: '+str(p))\n",
    "if abs(stat) >= critical:\n",
    "\tprint('-> Dependent (fail to reject H3)')\n",
    "else:\n",
    "\tprint('-> Independent (reject H3)')"
   ]
  },
  {
   "cell_type": "code",
   "execution_count": 20,
   "metadata": {},
   "outputs": [
    {
     "name": "stdout",
     "output_type": "stream",
     "text": [
      "Kontingenztabelle E3_SQ001\n"
     ]
    },
    {
     "data": {
      "text/html": [
       "<div>\n",
       "<style scoped>\n",
       "    .dataframe tbody tr th:only-of-type {\n",
       "        vertical-align: middle;\n",
       "    }\n",
       "\n",
       "    .dataframe tbody tr th {\n",
       "        vertical-align: top;\n",
       "    }\n",
       "\n",
       "    .dataframe thead th {\n",
       "        text-align: right;\n",
       "    }\n",
       "</style>\n",
       "<table border=\"1\" class=\"dataframe\">\n",
       "  <thead>\n",
       "    <tr style=\"text-align: right;\">\n",
       "      <th>E3_SQ001</th>\n",
       "      <th>1 = sehr wichtig</th>\n",
       "      <th>2</th>\n",
       "      <th>3</th>\n",
       "      <th>4</th>\n",
       "      <th>5 = überhaupt nicht wichtig</th>\n",
       "    </tr>\n",
       "    <tr>\n",
       "      <th>G1</th>\n",
       "      <th></th>\n",
       "      <th></th>\n",
       "      <th></th>\n",
       "      <th></th>\n",
       "      <th></th>\n",
       "    </tr>\n",
       "  </thead>\n",
       "  <tbody>\n",
       "    <tr>\n",
       "      <th>Feminin</th>\n",
       "      <td>18</td>\n",
       "      <td>28</td>\n",
       "      <td>46</td>\n",
       "      <td>17</td>\n",
       "      <td>12</td>\n",
       "    </tr>\n",
       "    <tr>\n",
       "      <th>Maskulin</th>\n",
       "      <td>11</td>\n",
       "      <td>18</td>\n",
       "      <td>23</td>\n",
       "      <td>17</td>\n",
       "      <td>11</td>\n",
       "    </tr>\n",
       "    <tr>\n",
       "      <th>Nicht-Binär</th>\n",
       "      <td>0</td>\n",
       "      <td>2</td>\n",
       "      <td>3</td>\n",
       "      <td>3</td>\n",
       "      <td>1</td>\n",
       "    </tr>\n",
       "  </tbody>\n",
       "</table>\n",
       "</div>"
      ],
      "text/plain": [
       "E3_SQ001     1 = sehr wichtig   2   3   4  5 = überhaupt nicht wichtig\n",
       "G1                                                                    \n",
       "Feminin                    18  28  46  17                           12\n",
       "Maskulin                   11  18  23  17                           11\n",
       "Nicht-Binär                 0   2   3   3                            1"
      ]
     },
     "execution_count": 20,
     "metadata": {},
     "output_type": "execute_result"
    }
   ],
   "source": [
    "#analyze E3_SQ001 \n",
    "e3_1=pd.crosstab(df['G1'],df['E3_SQ001']) #create contingency table\n",
    "print('Kontingenztabelle E3_SQ001')\n",
    "e3_1"
   ]
  },
  {
   "cell_type": "code",
   "execution_count": 21,
   "metadata": {},
   "outputs": [
    {
     "name": "stdout",
     "output_type": "stream",
     "text": [
      "p value: 0.656585905254861\n",
      "-> Independent (reject H4)\n"
     ]
    }
   ],
   "source": [
    "sig = 0.95 #'p value' or 'significance' of 0.95 is pretty much standard in science\n",
    "# Calculation of degrees of freedom (dof) : (rows - 1) * (cols - 1)\n",
    "dof = 4*2\n",
    "stat, p, dof, expected = scipy.stats.chi2_contingency(e3_1) #https://machinelearningmastery.com/chi-squared-test-for-machine-learning/\n",
    "#print(expected) #This is what the expected values for a chi² distribution would look like\n",
    "critical = chi2.ppf(sig, dof)\n",
    "print('p value: '+str(p))\n",
    "if abs(stat) >= critical:\n",
    "\tprint('-> Dependent (fail to reject H4)')\n",
    "else:\n",
    "\tprint('-> Independent (reject H4)')"
   ]
  },
  {
   "cell_type": "code",
   "execution_count": 22,
   "metadata": {},
   "outputs": [
    {
     "name": "stdout",
     "output_type": "stream",
     "text": [
      "Kontingenztabelle E3_SQ002\n"
     ]
    },
    {
     "data": {
      "text/html": [
       "<div>\n",
       "<style scoped>\n",
       "    .dataframe tbody tr th:only-of-type {\n",
       "        vertical-align: middle;\n",
       "    }\n",
       "\n",
       "    .dataframe tbody tr th {\n",
       "        vertical-align: top;\n",
       "    }\n",
       "\n",
       "    .dataframe thead th {\n",
       "        text-align: right;\n",
       "    }\n",
       "</style>\n",
       "<table border=\"1\" class=\"dataframe\">\n",
       "  <thead>\n",
       "    <tr style=\"text-align: right;\">\n",
       "      <th>E3_SQ002</th>\n",
       "      <th>1 = sehr wichtig</th>\n",
       "      <th>2</th>\n",
       "      <th>3</th>\n",
       "      <th>4</th>\n",
       "      <th>5 = überhaupt nicht wichtig</th>\n",
       "    </tr>\n",
       "    <tr>\n",
       "      <th>G1</th>\n",
       "      <th></th>\n",
       "      <th></th>\n",
       "      <th></th>\n",
       "      <th></th>\n",
       "      <th></th>\n",
       "    </tr>\n",
       "  </thead>\n",
       "  <tbody>\n",
       "    <tr>\n",
       "      <th>Feminin</th>\n",
       "      <td>32</td>\n",
       "      <td>43</td>\n",
       "      <td>25</td>\n",
       "      <td>13</td>\n",
       "      <td>8</td>\n",
       "    </tr>\n",
       "    <tr>\n",
       "      <th>Maskulin</th>\n",
       "      <td>16</td>\n",
       "      <td>32</td>\n",
       "      <td>20</td>\n",
       "      <td>7</td>\n",
       "      <td>5</td>\n",
       "    </tr>\n",
       "    <tr>\n",
       "      <th>Nicht-Binär</th>\n",
       "      <td>2</td>\n",
       "      <td>5</td>\n",
       "      <td>1</td>\n",
       "      <td>1</td>\n",
       "      <td>0</td>\n",
       "    </tr>\n",
       "  </tbody>\n",
       "</table>\n",
       "</div>"
      ],
      "text/plain": [
       "E3_SQ002     1 = sehr wichtig   2   3   4  5 = überhaupt nicht wichtig\n",
       "G1                                                                    \n",
       "Feminin                    32  43  25  13                            8\n",
       "Maskulin                   16  32  20   7                            5\n",
       "Nicht-Binär                 2   5   1   1                            0"
      ]
     },
     "execution_count": 22,
     "metadata": {},
     "output_type": "execute_result"
    }
   ],
   "source": [
    "#analyze E3_SQ002\n",
    "e3_2=pd.crosstab(df['G1'],df['E3_SQ002']) #create contingency table\n",
    "print('Kontingenztabelle E3_SQ002')\n",
    "e3_2"
   ]
  },
  {
   "cell_type": "code",
   "execution_count": 23,
   "metadata": {},
   "outputs": [
    {
     "name": "stdout",
     "output_type": "stream",
     "text": [
      "p value: 0.8941620218564533\n",
      "-> Independent (reject H5)\n"
     ]
    }
   ],
   "source": [
    "sig = 0.95 #'p value' or 'significance' of 0.95 is pretty much standard in science\n",
    "# Calculation of degrees of freedom (dof) : (rows - 1) * (cols - 1)\n",
    "dof = 4*2\n",
    "stat, p, dof, expected = scipy.stats.chi2_contingency(e3_2) #https://machinelearningmastery.com/chi-squared-test-for-machine-learning/\n",
    "#print(expected) #This is what the expected values for a chi² distribution would look like\n",
    "critical = chi2.ppf(sig, dof)\n",
    "print('p value: '+str(p))\n",
    "if abs(stat) >= critical:\n",
    "\tprint('-> Dependent (fail to reject H5)')\n",
    "else:\n",
    "\tprint('-> Independent (reject H5)')"
   ]
  },
  {
   "cell_type": "code",
   "execution_count": 24,
   "metadata": {},
   "outputs": [
    {
     "name": "stdout",
     "output_type": "stream",
     "text": [
      "Kontingenztabelle E3_SQ003\n"
     ]
    },
    {
     "data": {
      "text/html": [
       "<div>\n",
       "<style scoped>\n",
       "    .dataframe tbody tr th:only-of-type {\n",
       "        vertical-align: middle;\n",
       "    }\n",
       "\n",
       "    .dataframe tbody tr th {\n",
       "        vertical-align: top;\n",
       "    }\n",
       "\n",
       "    .dataframe thead th {\n",
       "        text-align: right;\n",
       "    }\n",
       "</style>\n",
       "<table border=\"1\" class=\"dataframe\">\n",
       "  <thead>\n",
       "    <tr style=\"text-align: right;\">\n",
       "      <th>E3_SQ003</th>\n",
       "      <th>1 = sehr wichtig</th>\n",
       "      <th>2</th>\n",
       "      <th>3</th>\n",
       "      <th>4</th>\n",
       "      <th>5 = überhaupt nicht wichtig</th>\n",
       "    </tr>\n",
       "    <tr>\n",
       "      <th>G1</th>\n",
       "      <th></th>\n",
       "      <th></th>\n",
       "      <th></th>\n",
       "      <th></th>\n",
       "      <th></th>\n",
       "    </tr>\n",
       "  </thead>\n",
       "  <tbody>\n",
       "    <tr>\n",
       "      <th>Feminin</th>\n",
       "      <td>40</td>\n",
       "      <td>29</td>\n",
       "      <td>30</td>\n",
       "      <td>16</td>\n",
       "      <td>6</td>\n",
       "    </tr>\n",
       "    <tr>\n",
       "      <th>Maskulin</th>\n",
       "      <td>30</td>\n",
       "      <td>26</td>\n",
       "      <td>18</td>\n",
       "      <td>5</td>\n",
       "      <td>1</td>\n",
       "    </tr>\n",
       "    <tr>\n",
       "      <th>Nicht-Binär</th>\n",
       "      <td>2</td>\n",
       "      <td>4</td>\n",
       "      <td>2</td>\n",
       "      <td>0</td>\n",
       "      <td>1</td>\n",
       "    </tr>\n",
       "  </tbody>\n",
       "</table>\n",
       "</div>"
      ],
      "text/plain": [
       "E3_SQ003     1 = sehr wichtig   2   3   4  5 = überhaupt nicht wichtig\n",
       "G1                                                                    \n",
       "Feminin                    40  29  30  16                            6\n",
       "Maskulin                   30  26  18   5                            1\n",
       "Nicht-Binär                 2   4   2   0                            1"
      ]
     },
     "execution_count": 24,
     "metadata": {},
     "output_type": "execute_result"
    }
   ],
   "source": [
    "#analyze E3_SQ003\n",
    "e3_3=pd.crosstab(df['G1'],df['E3_SQ003']) #create contingency table\n",
    "print('Kontingenztabelle E3_SQ003')\n",
    "e3_3"
   ]
  },
  {
   "cell_type": "code",
   "execution_count": 25,
   "metadata": {},
   "outputs": [
    {
     "name": "stdout",
     "output_type": "stream",
     "text": [
      "p value: 0.3198667476571227\n",
      "-> Independent (reject H6)\n"
     ]
    }
   ],
   "source": [
    "sig = 0.95 #'p value' or 'significance' of 0.95 is pretty much standard in science\n",
    "# Calculation of degrees of freedom (dof) : (rows - 1) * (cols - 1)\n",
    "dof = 4*2\n",
    "stat, p, dof, expected = scipy.stats.chi2_contingency(e3_3) #https://machinelearningmastery.com/chi-squared-test-for-machine-learning/\n",
    "#print(expected) #This is what the expected values for a chi² distribution would look like\n",
    "critical = chi2.ppf(sig, dof)\n",
    "print('p value: '+str(p))\n",
    "if abs(stat) >= critical:\n",
    "\tprint('-> Dependent (fail to reject H6)')\n",
    "else:\n",
    "\tprint('-> Independent (reject H6)')"
   ]
  },
  {
   "cell_type": "code",
   "execution_count": 26,
   "metadata": {},
   "outputs": [
    {
     "name": "stdout",
     "output_type": "stream",
     "text": [
      "Kontingenztabelle E3_SQ004\n"
     ]
    },
    {
     "data": {
      "text/html": [
       "<div>\n",
       "<style scoped>\n",
       "    .dataframe tbody tr th:only-of-type {\n",
       "        vertical-align: middle;\n",
       "    }\n",
       "\n",
       "    .dataframe tbody tr th {\n",
       "        vertical-align: top;\n",
       "    }\n",
       "\n",
       "    .dataframe thead th {\n",
       "        text-align: right;\n",
       "    }\n",
       "</style>\n",
       "<table border=\"1\" class=\"dataframe\">\n",
       "  <thead>\n",
       "    <tr style=\"text-align: right;\">\n",
       "      <th>E3_SQ004</th>\n",
       "      <th>1 = sehr wichtig</th>\n",
       "      <th>2</th>\n",
       "      <th>3</th>\n",
       "      <th>4</th>\n",
       "      <th>5 = überhaupt nicht wichtig</th>\n",
       "    </tr>\n",
       "    <tr>\n",
       "      <th>G1</th>\n",
       "      <th></th>\n",
       "      <th></th>\n",
       "      <th></th>\n",
       "      <th></th>\n",
       "      <th></th>\n",
       "    </tr>\n",
       "  </thead>\n",
       "  <tbody>\n",
       "    <tr>\n",
       "      <th>Feminin</th>\n",
       "      <td>11</td>\n",
       "      <td>27</td>\n",
       "      <td>43</td>\n",
       "      <td>21</td>\n",
       "      <td>19</td>\n",
       "    </tr>\n",
       "    <tr>\n",
       "      <th>Maskulin</th>\n",
       "      <td>10</td>\n",
       "      <td>20</td>\n",
       "      <td>29</td>\n",
       "      <td>11</td>\n",
       "      <td>10</td>\n",
       "    </tr>\n",
       "    <tr>\n",
       "      <th>Nicht-Binär</th>\n",
       "      <td>0</td>\n",
       "      <td>1</td>\n",
       "      <td>6</td>\n",
       "      <td>2</td>\n",
       "      <td>0</td>\n",
       "    </tr>\n",
       "  </tbody>\n",
       "</table>\n",
       "</div>"
      ],
      "text/plain": [
       "E3_SQ004     1 = sehr wichtig   2   3   4  5 = überhaupt nicht wichtig\n",
       "G1                                                                    \n",
       "Feminin                    11  27  43  21                           19\n",
       "Maskulin                   10  20  29  11                           10\n",
       "Nicht-Binär                 0   1   6   2                            0"
      ]
     },
     "execution_count": 26,
     "metadata": {},
     "output_type": "execute_result"
    }
   ],
   "source": [
    "#analyze E3_SQ004 \n",
    "e3_4=pd.crosstab(df['G1'],df['E3_SQ004']) #create contingency table\n",
    "print('Kontingenztabelle E3_SQ004')\n",
    "e3_4"
   ]
  },
  {
   "cell_type": "code",
   "execution_count": 27,
   "metadata": {},
   "outputs": [
    {
     "name": "stdout",
     "output_type": "stream",
     "text": [
      "p value: 0.5707541609262008\n",
      "-> Independent (reject H7)\n"
     ]
    }
   ],
   "source": [
    "sig = 0.95 #'p value' or 'significance' of 0.95 is pretty much standard in science\n",
    "# Calculation of degrees of freedom (dof) : (rows - 1) * (cols - 1)\n",
    "dof = 4*2\n",
    "stat, p, dof, expected = scipy.stats.chi2_contingency(e3_4) #https://machinelearningmastery.com/chi-squared-test-for-machine-learning/\n",
    "#print(expected) #This is what the expected values for a chi² distribution would look like\n",
    "critical = chi2.ppf(sig, dof)\n",
    "print('p value: '+str(p))\n",
    "if abs(stat) >= critical:\n",
    "\tprint('-> Dependent (fail to reject H7)')\n",
    "else:\n",
    "\tprint('-> Independent (reject H7)')"
   ]
  },
  {
   "cell_type": "code",
   "execution_count": 28,
   "metadata": {},
   "outputs": [
    {
     "name": "stdout",
     "output_type": "stream",
     "text": [
      "Kontingenztabelle E3_SQ005\n"
     ]
    },
    {
     "data": {
      "text/html": [
       "<div>\n",
       "<style scoped>\n",
       "    .dataframe tbody tr th:only-of-type {\n",
       "        vertical-align: middle;\n",
       "    }\n",
       "\n",
       "    .dataframe tbody tr th {\n",
       "        vertical-align: top;\n",
       "    }\n",
       "\n",
       "    .dataframe thead th {\n",
       "        text-align: right;\n",
       "    }\n",
       "</style>\n",
       "<table border=\"1\" class=\"dataframe\">\n",
       "  <thead>\n",
       "    <tr style=\"text-align: right;\">\n",
       "      <th>E3_SQ005</th>\n",
       "      <th>1 = sehr wichtig</th>\n",
       "      <th>2</th>\n",
       "      <th>3</th>\n",
       "      <th>4</th>\n",
       "      <th>5 = überhaupt nicht wichtig</th>\n",
       "    </tr>\n",
       "    <tr>\n",
       "      <th>G1</th>\n",
       "      <th></th>\n",
       "      <th></th>\n",
       "      <th></th>\n",
       "      <th></th>\n",
       "      <th></th>\n",
       "    </tr>\n",
       "  </thead>\n",
       "  <tbody>\n",
       "    <tr>\n",
       "      <th>Feminin</th>\n",
       "      <td>12</td>\n",
       "      <td>22</td>\n",
       "      <td>44</td>\n",
       "      <td>23</td>\n",
       "      <td>20</td>\n",
       "    </tr>\n",
       "    <tr>\n",
       "      <th>Maskulin</th>\n",
       "      <td>9</td>\n",
       "      <td>19</td>\n",
       "      <td>19</td>\n",
       "      <td>17</td>\n",
       "      <td>16</td>\n",
       "    </tr>\n",
       "    <tr>\n",
       "      <th>Nicht-Binär</th>\n",
       "      <td>1</td>\n",
       "      <td>2</td>\n",
       "      <td>1</td>\n",
       "      <td>3</td>\n",
       "      <td>2</td>\n",
       "    </tr>\n",
       "  </tbody>\n",
       "</table>\n",
       "</div>"
      ],
      "text/plain": [
       "E3_SQ005     1 = sehr wichtig   2   3   4  5 = überhaupt nicht wichtig\n",
       "G1                                                                    \n",
       "Feminin                    12  22  44  23                           20\n",
       "Maskulin                    9  19  19  17                           16\n",
       "Nicht-Binär                 1   2   1   3                            2"
      ]
     },
     "execution_count": 28,
     "metadata": {},
     "output_type": "execute_result"
    }
   ],
   "source": [
    "#analyze E3_SQ005\n",
    "e3_5=pd.crosstab(df['G1'],df['E3_SQ005']) #create contingency table\n",
    "print('Kontingenztabelle E3_SQ005')\n",
    "e3_5"
   ]
  },
  {
   "cell_type": "code",
   "execution_count": 29,
   "metadata": {},
   "outputs": [
    {
     "name": "stdout",
     "output_type": "stream",
     "text": [
      "p value: 0.6711699111625892\n",
      "-> Independent (reject H8)\n"
     ]
    }
   ],
   "source": [
    "sig = 0.95 #'p value' or 'significance' of 0.95 is pretty much standard in science\n",
    "# Calculation of degrees of freedom (dof) : (rows - 1) * (cols - 1)\n",
    "dof = 4*2\n",
    "stat, p, dof, expected = scipy.stats.chi2_contingency(e3_5) #https://machinelearningmastery.com/chi-squared-test-for-machine-learning/\n",
    "#print(expected) #This is what the expected values for a chi² distribution would look like\n",
    "critical = chi2.ppf(sig, dof)\n",
    "print('p value: '+str(p))\n",
    "if abs(stat) >= critical:\n",
    "\tprint('-> Dependent (fail to reject H8)')\n",
    "else:\n",
    "\tprint('-> Independent (reject H8)')"
   ]
  },
  {
   "cell_type": "code",
   "execution_count": 30,
   "metadata": {},
   "outputs": [
    {
     "name": "stdout",
     "output_type": "stream",
     "text": [
      "Kontingenztabelle E3_SQ006\n"
     ]
    },
    {
     "data": {
      "text/html": [
       "<div>\n",
       "<style scoped>\n",
       "    .dataframe tbody tr th:only-of-type {\n",
       "        vertical-align: middle;\n",
       "    }\n",
       "\n",
       "    .dataframe tbody tr th {\n",
       "        vertical-align: top;\n",
       "    }\n",
       "\n",
       "    .dataframe thead th {\n",
       "        text-align: right;\n",
       "    }\n",
       "</style>\n",
       "<table border=\"1\" class=\"dataframe\">\n",
       "  <thead>\n",
       "    <tr style=\"text-align: right;\">\n",
       "      <th>E3_SQ006</th>\n",
       "      <th>1 = sehr wichtig</th>\n",
       "      <th>2</th>\n",
       "      <th>3</th>\n",
       "      <th>4</th>\n",
       "      <th>5 = überhaupt nicht wichtig</th>\n",
       "    </tr>\n",
       "    <tr>\n",
       "      <th>G1</th>\n",
       "      <th></th>\n",
       "      <th></th>\n",
       "      <th></th>\n",
       "      <th></th>\n",
       "      <th></th>\n",
       "    </tr>\n",
       "  </thead>\n",
       "  <tbody>\n",
       "    <tr>\n",
       "      <th>Feminin</th>\n",
       "      <td>16</td>\n",
       "      <td>32</td>\n",
       "      <td>45</td>\n",
       "      <td>16</td>\n",
       "      <td>12</td>\n",
       "    </tr>\n",
       "    <tr>\n",
       "      <th>Maskulin</th>\n",
       "      <td>19</td>\n",
       "      <td>23</td>\n",
       "      <td>22</td>\n",
       "      <td>10</td>\n",
       "      <td>6</td>\n",
       "    </tr>\n",
       "    <tr>\n",
       "      <th>Nicht-Binär</th>\n",
       "      <td>2</td>\n",
       "      <td>3</td>\n",
       "      <td>3</td>\n",
       "      <td>1</td>\n",
       "      <td>0</td>\n",
       "    </tr>\n",
       "  </tbody>\n",
       "</table>\n",
       "</div>"
      ],
      "text/plain": [
       "E3_SQ006     1 = sehr wichtig   2   3   4  5 = überhaupt nicht wichtig\n",
       "G1                                                                    \n",
       "Feminin                    16  32  45  16                           12\n",
       "Maskulin                   19  23  22  10                            6\n",
       "Nicht-Binär                 2   3   3   1                            0"
      ]
     },
     "execution_count": 30,
     "metadata": {},
     "output_type": "execute_result"
    }
   ],
   "source": [
    "#analyze E3_SQ006\n",
    "e3_6=pd.crosstab(df['G1'],df['E3_SQ006']) #create contingency table\n",
    "print('Kontingenztabelle E3_SQ006')\n",
    "e3_6"
   ]
  },
  {
   "cell_type": "code",
   "execution_count": 31,
   "metadata": {},
   "outputs": [
    {
     "name": "stdout",
     "output_type": "stream",
     "text": [
      "p value: 0.6608339002491689\n",
      "-> Independent (reject H9)\n"
     ]
    }
   ],
   "source": [
    "sig = 0.95 #'p value' or 'significance' of 0.95 is pretty much standard in science\n",
    "# Calculation of degrees of freedom (dof) : (rows - 1) * (cols - 1)\n",
    "dof = 4*2\n",
    "stat, p, dof, expected = scipy.stats.chi2_contingency(e3_6) #https://machinelearningmastery.com/chi-squared-test-for-machine-learning/\n",
    "#print(expected) #This is what the expected values for a chi² distribution would look like\n",
    "critical = chi2.ppf(sig, dof)\n",
    "print('p value: '+str(p))\n",
    "if abs(stat) >= critical:\n",
    "\tprint('-> Dependent (fail to reject H9)')\n",
    "else:\n",
    "\tprint('-> Independent (reject H9)')"
   ]
  },
  {
   "cell_type": "code",
   "execution_count": 32,
   "metadata": {},
   "outputs": [
    {
     "name": "stdout",
     "output_type": "stream",
     "text": [
      "Kontingenztabelle E3_SQ007\n"
     ]
    },
    {
     "data": {
      "text/html": [
       "<div>\n",
       "<style scoped>\n",
       "    .dataframe tbody tr th:only-of-type {\n",
       "        vertical-align: middle;\n",
       "    }\n",
       "\n",
       "    .dataframe tbody tr th {\n",
       "        vertical-align: top;\n",
       "    }\n",
       "\n",
       "    .dataframe thead th {\n",
       "        text-align: right;\n",
       "    }\n",
       "</style>\n",
       "<table border=\"1\" class=\"dataframe\">\n",
       "  <thead>\n",
       "    <tr style=\"text-align: right;\">\n",
       "      <th>E3_SQ007</th>\n",
       "      <th>1 = sehr wichtig</th>\n",
       "      <th>2</th>\n",
       "      <th>3</th>\n",
       "      <th>4</th>\n",
       "      <th>5 = überhaupt nicht wichtig</th>\n",
       "    </tr>\n",
       "    <tr>\n",
       "      <th>G1</th>\n",
       "      <th></th>\n",
       "      <th></th>\n",
       "      <th></th>\n",
       "      <th></th>\n",
       "      <th></th>\n",
       "    </tr>\n",
       "  </thead>\n",
       "  <tbody>\n",
       "    <tr>\n",
       "      <th>Feminin</th>\n",
       "      <td>22</td>\n",
       "      <td>35</td>\n",
       "      <td>39</td>\n",
       "      <td>18</td>\n",
       "      <td>7</td>\n",
       "    </tr>\n",
       "    <tr>\n",
       "      <th>Maskulin</th>\n",
       "      <td>18</td>\n",
       "      <td>24</td>\n",
       "      <td>21</td>\n",
       "      <td>12</td>\n",
       "      <td>5</td>\n",
       "    </tr>\n",
       "    <tr>\n",
       "      <th>Nicht-Binär</th>\n",
       "      <td>1</td>\n",
       "      <td>5</td>\n",
       "      <td>2</td>\n",
       "      <td>0</td>\n",
       "      <td>1</td>\n",
       "    </tr>\n",
       "  </tbody>\n",
       "</table>\n",
       "</div>"
      ],
      "text/plain": [
       "E3_SQ007     1 = sehr wichtig   2   3   4  5 = überhaupt nicht wichtig\n",
       "G1                                                                    \n",
       "Feminin                    22  35  39  18                            7\n",
       "Maskulin                   18  24  21  12                            5\n",
       "Nicht-Binär                 1   5   2   0                            1"
      ]
     },
     "execution_count": 32,
     "metadata": {},
     "output_type": "execute_result"
    }
   ],
   "source": [
    "#analyze E3_SQ007\n",
    "e3_7=pd.crosstab(df['G1'],df['E3_SQ007']) #create contingency table\n",
    "print('Kontingenztabelle E3_SQ007')\n",
    "e3_7"
   ]
  },
  {
   "cell_type": "code",
   "execution_count": 33,
   "metadata": {},
   "outputs": [
    {
     "name": "stdout",
     "output_type": "stream",
     "text": [
      "p value: 0.7314857418415885\n",
      "-> Independent (reject H10)\n"
     ]
    }
   ],
   "source": [
    "sig = 0.95 #'p value' or 'significance' of 0.95 is pretty much standard in science\n",
    "# Calculation of degrees of freedom (dof) : (rows - 1) * (cols - 1)\n",
    "dof = 4*2\n",
    "stat, p, dof, expected = scipy.stats.chi2_contingency(e3_7) #https://machinelearningmastery.com/chi-squared-test-for-machine-learning/\n",
    "#print(expected) #This is what the expected values for a chi² distribution would look like\n",
    "critical = chi2.ppf(sig, dof)\n",
    "print('p value: '+str(p))\n",
    "if abs(stat) >= critical:\n",
    "\tprint('-> Dependent (fail to reject H10)')\n",
    "else:\n",
    "\tprint('-> Independent (reject H10)')"
   ]
  },
  {
   "cell_type": "code",
   "execution_count": 34,
   "metadata": {},
   "outputs": [
    {
     "name": "stdout",
     "output_type": "stream",
     "text": [
      "Kontingenztabelle E3_SQ008\n"
     ]
    },
    {
     "data": {
      "text/html": [
       "<div>\n",
       "<style scoped>\n",
       "    .dataframe tbody tr th:only-of-type {\n",
       "        vertical-align: middle;\n",
       "    }\n",
       "\n",
       "    .dataframe tbody tr th {\n",
       "        vertical-align: top;\n",
       "    }\n",
       "\n",
       "    .dataframe thead th {\n",
       "        text-align: right;\n",
       "    }\n",
       "</style>\n",
       "<table border=\"1\" class=\"dataframe\">\n",
       "  <thead>\n",
       "    <tr style=\"text-align: right;\">\n",
       "      <th>E3_SQ008</th>\n",
       "      <th>1 = sehr wichtig</th>\n",
       "      <th>2</th>\n",
       "      <th>3</th>\n",
       "      <th>4</th>\n",
       "      <th>5 = überhaupt nicht wichtig</th>\n",
       "    </tr>\n",
       "    <tr>\n",
       "      <th>G1</th>\n",
       "      <th></th>\n",
       "      <th></th>\n",
       "      <th></th>\n",
       "      <th></th>\n",
       "      <th></th>\n",
       "    </tr>\n",
       "  </thead>\n",
       "  <tbody>\n",
       "    <tr>\n",
       "      <th>Feminin</th>\n",
       "      <td>109</td>\n",
       "      <td>7</td>\n",
       "      <td>3</td>\n",
       "      <td>0</td>\n",
       "      <td>2</td>\n",
       "    </tr>\n",
       "    <tr>\n",
       "      <th>Maskulin</th>\n",
       "      <td>71</td>\n",
       "      <td>7</td>\n",
       "      <td>1</td>\n",
       "      <td>1</td>\n",
       "      <td>0</td>\n",
       "    </tr>\n",
       "    <tr>\n",
       "      <th>Nicht-Binär</th>\n",
       "      <td>7</td>\n",
       "      <td>1</td>\n",
       "      <td>0</td>\n",
       "      <td>1</td>\n",
       "      <td>0</td>\n",
       "    </tr>\n",
       "  </tbody>\n",
       "</table>\n",
       "</div>"
      ],
      "text/plain": [
       "E3_SQ008     1 = sehr wichtig  2  3  4  5 = überhaupt nicht wichtig\n",
       "G1                                                                 \n",
       "Feminin                   109  7  3  0                            2\n",
       "Maskulin                   71  7  1  1                            0\n",
       "Nicht-Binär                 7  1  0  1                            0"
      ]
     },
     "execution_count": 34,
     "metadata": {},
     "output_type": "execute_result"
    }
   ],
   "source": [
    "#analyze E3_SQ008\n",
    "e3_8=pd.crosstab(df['G1'],df['E3_SQ008']) #create contingency table\n",
    "print('Kontingenztabelle E3_SQ008')\n",
    "e3_8"
   ]
  },
  {
   "cell_type": "code",
   "execution_count": 35,
   "metadata": {},
   "outputs": [
    {
     "name": "stdout",
     "output_type": "stream",
     "text": [
      "p value: 0.08294200915691691\n",
      "-> Independent (reject H11)\n"
     ]
    }
   ],
   "source": [
    "sig = 0.95 #'p value' or 'significance' of 0.95 is pretty much standard in science\n",
    "# Calculation of degrees of freedom (dof) : (rows - 1) * (cols - 1)\n",
    "dof = 4*2\n",
    "stat, p, dof, expected = scipy.stats.chi2_contingency(e3_8) #https://machinelearningmastery.com/chi-squared-test-for-machine-learning/\n",
    "#print(expected) #This is what the expected values for a chi² distribution would look like\n",
    "critical = chi2.ppf(sig, dof)\n",
    "print('p value: '+str(p))\n",
    "if abs(stat) >= critical:\n",
    "\tprint('-> Dependent (fail to reject H11)')\n",
    "else:\n",
    "\tprint('-> Independent (reject H11)')"
   ]
  },
  {
   "cell_type": "code",
   "execution_count": 36,
   "metadata": {},
   "outputs": [
    {
     "name": "stdout",
     "output_type": "stream",
     "text": [
      "Kontingenztabelle E3_SQ009\n"
     ]
    },
    {
     "data": {
      "text/html": [
       "<div>\n",
       "<style scoped>\n",
       "    .dataframe tbody tr th:only-of-type {\n",
       "        vertical-align: middle;\n",
       "    }\n",
       "\n",
       "    .dataframe tbody tr th {\n",
       "        vertical-align: top;\n",
       "    }\n",
       "\n",
       "    .dataframe thead th {\n",
       "        text-align: right;\n",
       "    }\n",
       "</style>\n",
       "<table border=\"1\" class=\"dataframe\">\n",
       "  <thead>\n",
       "    <tr style=\"text-align: right;\">\n",
       "      <th>E3_SQ009</th>\n",
       "      <th>1 = sehr wichtig</th>\n",
       "      <th>2</th>\n",
       "      <th>3</th>\n",
       "      <th>4</th>\n",
       "      <th>5 = überhaupt nicht wichtig</th>\n",
       "    </tr>\n",
       "    <tr>\n",
       "      <th>G1</th>\n",
       "      <th></th>\n",
       "      <th></th>\n",
       "      <th></th>\n",
       "      <th></th>\n",
       "      <th></th>\n",
       "    </tr>\n",
       "  </thead>\n",
       "  <tbody>\n",
       "    <tr>\n",
       "      <th>Feminin</th>\n",
       "      <td>29</td>\n",
       "      <td>35</td>\n",
       "      <td>33</td>\n",
       "      <td>19</td>\n",
       "      <td>5</td>\n",
       "    </tr>\n",
       "    <tr>\n",
       "      <th>Maskulin</th>\n",
       "      <td>35</td>\n",
       "      <td>21</td>\n",
       "      <td>15</td>\n",
       "      <td>8</td>\n",
       "      <td>1</td>\n",
       "    </tr>\n",
       "    <tr>\n",
       "      <th>Nicht-Binär</th>\n",
       "      <td>2</td>\n",
       "      <td>0</td>\n",
       "      <td>5</td>\n",
       "      <td>2</td>\n",
       "      <td>0</td>\n",
       "    </tr>\n",
       "  </tbody>\n",
       "</table>\n",
       "</div>"
      ],
      "text/plain": [
       "E3_SQ009     1 = sehr wichtig   2   3   4  5 = überhaupt nicht wichtig\n",
       "G1                                                                    \n",
       "Feminin                    29  35  33  19                            5\n",
       "Maskulin                   35  21  15   8                            1\n",
       "Nicht-Binär                 2   0   5   2                            0"
      ]
     },
     "execution_count": 36,
     "metadata": {},
     "output_type": "execute_result"
    }
   ],
   "source": [
    "#analyze E3_SQ009\n",
    "e3_9=pd.crosstab(df['G1'],df['E3_SQ009']) #create contingency table\n",
    "print('Kontingenztabelle E3_SQ009')\n",
    "e3_9"
   ]
  },
  {
   "cell_type": "code",
   "execution_count": 37,
   "metadata": {},
   "outputs": [
    {
     "name": "stdout",
     "output_type": "stream",
     "text": [
      "p value: 0.030288534076170815\n",
      "-> Dependent (fail to reject H12)\n"
     ]
    }
   ],
   "source": [
    "sig = 0.95 #'p value' or 'significance' of 0.95 is pretty much standard in science\n",
    "# Calculation of degrees of freedom (dof) : (rows - 1) * (cols - 1)\n",
    "dof = 4*2\n",
    "stat, p, dof, expected = scipy.stats.chi2_contingency(e3_9) #https://machinelearningmastery.com/chi-squared-test-for-machine-learning/\n",
    "#print(expected) #This is what the expected values for a chi² distribution would look like\n",
    "critical = chi2.ppf(sig, dof)\n",
    "print('p value: '+str(p))\n",
    "if abs(stat) >= critical:\n",
    "\tprint('-> Dependent (fail to reject H12)')\n",
    "else:\n",
    "\tprint('-> Independent (reject H12)')"
   ]
  },
  {
   "cell_type": "code",
   "execution_count": 38,
   "metadata": {},
   "outputs": [
    {
     "name": "stdout",
     "output_type": "stream",
     "text": [
      "Kontingenztabelle E3_9 prozentual\n"
     ]
    },
    {
     "data": {
      "text/html": [
       "<div>\n",
       "<style scoped>\n",
       "    .dataframe tbody tr th:only-of-type {\n",
       "        vertical-align: middle;\n",
       "    }\n",
       "\n",
       "    .dataframe tbody tr th {\n",
       "        vertical-align: top;\n",
       "    }\n",
       "\n",
       "    .dataframe thead th {\n",
       "        text-align: right;\n",
       "    }\n",
       "</style>\n",
       "<table border=\"1\" class=\"dataframe\">\n",
       "  <thead>\n",
       "    <tr style=\"text-align: right;\">\n",
       "      <th>E3_SQ009</th>\n",
       "      <th>1 = sehr wichtig</th>\n",
       "      <th>2</th>\n",
       "      <th>3</th>\n",
       "      <th>4</th>\n",
       "      <th>5 = überhaupt nicht wichtig</th>\n",
       "    </tr>\n",
       "    <tr>\n",
       "      <th>G1</th>\n",
       "      <th></th>\n",
       "      <th></th>\n",
       "      <th></th>\n",
       "      <th></th>\n",
       "      <th></th>\n",
       "    </tr>\n",
       "  </thead>\n",
       "  <tbody>\n",
       "    <tr>\n",
       "      <th>Feminin</th>\n",
       "      <td>23.966942</td>\n",
       "      <td>28.92562</td>\n",
       "      <td>27.272727</td>\n",
       "      <td>15.702479</td>\n",
       "      <td>4.132231</td>\n",
       "    </tr>\n",
       "    <tr>\n",
       "      <th>Maskulin</th>\n",
       "      <td>43.750000</td>\n",
       "      <td>26.25000</td>\n",
       "      <td>18.750000</td>\n",
       "      <td>10.000000</td>\n",
       "      <td>1.250000</td>\n",
       "    </tr>\n",
       "    <tr>\n",
       "      <th>Nicht-Binär</th>\n",
       "      <td>22.222222</td>\n",
       "      <td>0.00000</td>\n",
       "      <td>55.555556</td>\n",
       "      <td>22.222222</td>\n",
       "      <td>0.000000</td>\n",
       "    </tr>\n",
       "  </tbody>\n",
       "</table>\n",
       "</div>"
      ],
      "text/plain": [
       "E3_SQ009     1 = sehr wichtig         2          3          4  \\\n",
       "G1                                                              \n",
       "Feminin             23.966942  28.92562  27.272727  15.702479   \n",
       "Maskulin            43.750000  26.25000  18.750000  10.000000   \n",
       "Nicht-Binär         22.222222   0.00000  55.555556  22.222222   \n",
       "\n",
       "E3_SQ009     5 = überhaupt nicht wichtig  \n",
       "G1                                        \n",
       "Feminin                         4.132231  \n",
       "Maskulin                        1.250000  \n",
       "Nicht-Binär                     0.000000  "
      ]
     },
     "execution_count": 38,
     "metadata": {},
     "output_type": "execute_result"
    }
   ],
   "source": [
    "#can't believe it, let's look at the percentages\n",
    "\n",
    "print('Kontingenztabelle E3_9 prozentual')\n",
    "e3_9.apply(lambda row: row*100/row.sum(),axis=1)"
   ]
  },
  {
   "cell_type": "code",
   "execution_count": 39,
   "metadata": {},
   "outputs": [
    {
     "name": "stdout",
     "output_type": "stream",
     "text": [
      "Kontingenztabelle E3_9a\n"
     ]
    },
    {
     "data": {
      "text/html": [
       "<div>\n",
       "<style scoped>\n",
       "    .dataframe tbody tr th:only-of-type {\n",
       "        vertical-align: middle;\n",
       "    }\n",
       "\n",
       "    .dataframe tbody tr th {\n",
       "        vertical-align: top;\n",
       "    }\n",
       "\n",
       "    .dataframe thead th {\n",
       "        text-align: right;\n",
       "    }\n",
       "</style>\n",
       "<table border=\"1\" class=\"dataframe\">\n",
       "  <thead>\n",
       "    <tr style=\"text-align: right;\">\n",
       "      <th>E3_SQ009</th>\n",
       "      <th>1 = sehr wichtig</th>\n",
       "      <th>2</th>\n",
       "      <th>3</th>\n",
       "      <th>4</th>\n",
       "      <th>5 = überhaupt nicht wichtig</th>\n",
       "    </tr>\n",
       "    <tr>\n",
       "      <th>G1</th>\n",
       "      <th></th>\n",
       "      <th></th>\n",
       "      <th></th>\n",
       "      <th></th>\n",
       "      <th></th>\n",
       "    </tr>\n",
       "  </thead>\n",
       "  <tbody>\n",
       "    <tr>\n",
       "      <th>Feminin</th>\n",
       "      <td>29</td>\n",
       "      <td>35</td>\n",
       "      <td>33</td>\n",
       "      <td>19</td>\n",
       "      <td>5</td>\n",
       "    </tr>\n",
       "    <tr>\n",
       "      <th>Maskulin</th>\n",
       "      <td>35</td>\n",
       "      <td>21</td>\n",
       "      <td>15</td>\n",
       "      <td>8</td>\n",
       "      <td>1</td>\n",
       "    </tr>\n",
       "  </tbody>\n",
       "</table>\n",
       "</div>"
      ],
      "text/plain": [
       "E3_SQ009  1 = sehr wichtig   2   3   4  5 = überhaupt nicht wichtig\n",
       "G1                                                                 \n",
       "Feminin                 29  35  33  19                            5\n",
       "Maskulin                35  21  15   8                            1"
      ]
     },
     "execution_count": 39,
     "metadata": {},
     "output_type": "execute_result"
    }
   ],
   "source": [
    "#What would happen if we exclude NB gender?\n",
    "#df[(df['G1'] != 'Nicht-Binär')]['G1']\n",
    "e3_9a=pd.crosstab(df[(df['G1'] != 'Nicht-Binär')]['G1'],df[(df['G1'] != 'Nicht-Binär')]['E3_SQ009']) #create contingency table\n",
    "#e1=pd.crosstab(df['G1'],df['E1']) #create contingency table\n",
    "print('Kontingenztabelle E3_9a')\n",
    "e3_9a"
   ]
  },
  {
   "cell_type": "code",
   "execution_count": 40,
   "metadata": {},
   "outputs": [
    {
     "name": "stdout",
     "output_type": "stream",
     "text": [
      "p value: 0.040190321525086746\n",
      "-> Dependent (fail to reject H12)\n"
     ]
    }
   ],
   "source": [
    "sig = 0.95 #'p value' or 'significance' of 0.95 is pretty much standard in science\n",
    "# Calculation of degrees of freedom (dof) : (rows - 1) * (cols - 1)\n",
    "dof = 4*2\n",
    "stat, p, dof, expected = scipy.stats.chi2_contingency(e3_9a) #https://machinelearningmastery.com/chi-squared-test-for-machine-learning/\n",
    "#print(expected) #This is what the expected values for a chi² distribution would look like\n",
    "critical = chi2.ppf(sig, dof)\n",
    "print('p value: '+str(p))\n",
    "if abs(stat) >= critical:\n",
    "\tprint('-> Dependent (fail to reject H12)')\n",
    "else:\n",
    "\tprint('-> Independent (reject H12)')"
   ]
  },
  {
   "cell_type": "code",
   "execution_count": null,
   "metadata": {},
   "outputs": [],
   "source": []
  }
 ],
 "metadata": {
  "kernelspec": {
   "display_name": "Python 3",
   "language": "python",
   "name": "python3"
  },
  "language_info": {
   "codemirror_mode": {
    "name": "ipython",
    "version": 3
   },
   "file_extension": ".py",
   "mimetype": "text/x-python",
   "name": "python",
   "nbconvert_exporter": "python",
   "pygments_lexer": "ipython3",
   "version": "3.7.3"
  }
 },
 "nbformat": 4,
 "nbformat_minor": 2
}
