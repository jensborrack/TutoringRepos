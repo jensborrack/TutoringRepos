{
 "cells": [
  {
   "cell_type": "code",
   "execution_count": 1,
   "metadata": {},
   "outputs": [],
   "source": [
    "import pyreadstat #lib for reading sas, spss etc"
   ]
  },
  {
   "cell_type": "code",
   "execution_count": 6,
   "metadata": {},
   "outputs": [
    {
     "data": {
      "text/plain": [
       "'C:\\\\Users\\\\Jens\\\\Documents\\\\2019\\\\Python\\\\V0.1'"
      ]
     },
     "execution_count": 6,
     "metadata": {},
     "output_type": "execute_result"
    }
   ],
   "source": [
    "pwd"
   ]
  },
  {
   "cell_type": "code",
   "execution_count": 7,
   "metadata": {},
   "outputs": [
    {
     "name": "stdout",
     "output_type": "stream",
     "text": [
      "      id  lastpage   b2  D1_SQ005   E1  \\\n",
      "0  158.0      19.0  1.0       2.0  1.0   \n",
      "1  270.0      19.0  1.0       2.0  3.0   \n",
      "2  145.0      19.0  1.0       2.0  3.0   \n",
      "3  268.0      19.0  1.0       3.0  1.0   \n",
      "4  364.0      19.0  1.0       2.0  2.0   \n",
      "\n",
      "                                                 E11  E2_SQ001  E2_SQ002  \\\n",
      "0  Besseres Licht- und Raumkonzept im Magazin, da...       1.0       4.0   \n",
      "1  Heller raum, weniger grau, verstellbare stühle...       1.0       1.0   \n",
      "2  Die Unibib der TU Dresden ist ein wunderbares ...       2.0       1.0   \n",
      "3                                                          1.0       2.0   \n",
      "4                                                          2.0       3.0   \n",
      "\n",
      "   E2_SQ003                                                E22  ...  E3_SQ003  \\\n",
      "0       2.0                     Whiteboard o.ä. wäre nützlich.  ...       1.0   \n",
      "1       1.0  Verschlossene getränke abseits von wasser mitn...  ...       1.0   \n",
      "2       3.0  technisches equipment muss vorhanden sein, z.b...  ...       1.0   \n",
      "3       2.0                                         Tageslicht  ...       1.0   \n",
      "4       2.0  Siehe vorheriger punkt und auch zusammen arbei...  ...       3.0   \n",
      "\n",
      "   E3_SQ004  E3_SQ005  E3_SQ006  E3_SQ007  E3_SQ008  E3_SQ009       E33   G1  \\\n",
      "0       5.0       5.0       2.0       2.0       1.0       2.0            2.0   \n",
      "1       3.0       5.0       2.0       4.0       1.0       1.0            1.0   \n",
      "2       2.0       3.0       3.0       2.0       1.0       2.0            2.0   \n",
      "3       5.0       5.0       3.0       2.0       1.0       1.0            2.0   \n",
      "4       4.0       5.0       4.0       3.0       1.0       3.0  Pflanzen  1.0   \n",
      "\n",
      "  H1  \n",
      "0     \n",
      "1     \n",
      "2     \n",
      "3     \n",
      "4     \n",
      "\n",
      "[5 rows x 22 columns]\n",
      "['id', 'lastpage', 'b2', 'D1_SQ005', 'E1', 'E11', 'E2_SQ001', 'E2_SQ002', 'E2_SQ003', 'E22', 'E3_SQ001', 'E3_SQ002', 'E3_SQ003', 'E3_SQ004', 'E3_SQ005', 'E3_SQ006', 'E3_SQ007', 'E3_SQ008', 'E3_SQ009', 'E33', 'G1', 'H1']\n",
      "['id', 'lastpage', 'Bitte geben Sie an, in welcher Rolle Sie die Bibliothek für Sozialwissenschaften und Osteuropastudien hauptsächlich nutzen.\\xa0', '[Gruppenarbeitsplätze] An unseren zwei Standorten (Garystr. 55 und Ihnestr. 21) bieten wir unterschiedliche Arten von Arbeitsplätzen an: Einzel-, Rechner- und Gruppenarbeitsplätze.\\xa0Wie wichtig sind die jeweiligen Angebote für Sie als Nutzer*in unserer', 'Wir möchten unser räumliches Angebot besser an Ihre Bedürfnisse und Anforderungen anpassen. In Zukunft planen wir die Einrichtung eines Lernraumes am Standort Ihnestraße 21, der nach Ihren Wünschen mitgestaltet werden soll. Damit wir Ihre Vorstellunge', 'Haben Sie weitere Anmerkungen zur Form der Raumgestaltung? Bitte geben Sie diese an:', '[Unabhängig von den Öffnungszeiten der Bibliothek nutzbar] Wie wichtig sind Ihnen die folgenden Eigenschaften des geplanten Gruppenarbeitsbereichs?', '[Keine „Garderobenpflicht“] Wie wichtig sind Ihnen die folgenden Eigenschaften des geplanten Gruppenarbeitsbereichs?', '[Online reservierbar] Wie wichtig sind Ihnen die folgenden Eigenschaften des geplanten Gruppenarbeitsbereichs?', 'Sind Ihnen weitere Eigenschaften wichtig? Bitte geben Sie diese an:', '[Bewegliche Raumtrenner] Wie wichtig sind Ihnen die folgenden Einrichtungselemente bei dem geplanten Gruppenarbeitsbereich?', '[Sofas/Sessel ] Wie wichtig sind Ihnen die folgenden Einrichtungselemente bei dem geplanten Gruppenarbeitsbereich?', '[Whiteboard/Magnetwand] Wie wichtig sind Ihnen die folgenden Einrichtungselemente bei dem geplanten Gruppenarbeitsbereich?', '[Pinnwand] Wie wichtig sind Ihnen die folgenden Einrichtungselemente bei dem geplanten Gruppenarbeitsbereich?', '[Klassische Tafel] Wie wichtig sind Ihnen die folgenden Einrichtungselemente bei dem geplanten Gruppenarbeitsbereich?', '[Flipchart] Wie wichtig sind Ihnen die folgenden Einrichtungselemente bei dem geplanten Gruppenarbeitsbereich?', '[Präsentationsmaterial] Wie wichtig sind Ihnen die folgenden Einrichtungselemente bei dem geplanten Gruppenarbeitsbereich?', '[Steckdosen] Wie wichtig sind Ihnen die folgenden Einrichtungselemente bei dem geplanten Gruppenarbeitsbereich?', '[Beamer] Wie wichtig sind Ihnen die folgenden Einrichtungselemente bei dem geplanten Gruppenarbeitsbereich?', 'Sind Ihnen weitere Einrichtungselemente wichtig? Bitte geben Sie diese an:', 'Welchem Geschlecht fühlen Sie sich zugehörig?', 'Wenn Sie Anmerkungen zur Umfrage haben oder auch weitere Anregungen, Ergänzungen oder Vorschläge, die bisher nicht in der Umfrage abgefragt wurden, freuen wir uns über Ihre Rückmeldung:']\n",
      "210\n",
      "22\n",
      "None\n",
      "UTF-8\n"
     ]
    }
   ],
   "source": [
    "df, meta = pyreadstat.read_sav('C:\\\\Users\\\\Jens\\\\Documents\\\\2019\\\\Python\\\\V0.1\\\\data.sav')\n",
    "\n",
    "# done! let's see what we got\n",
    "print(df.head())\n",
    "print(meta.column_names)\n",
    "print(meta.column_labels)\n",
    "print(meta.number_rows)\n",
    "print(meta.number_columns)\n",
    "print(meta.file_label)\n",
    "print(meta.file_encoding)\n",
    "# there are other metadata pieces extracted. See the documentation for more details."
   ]
  },
  {
   "cell_type": "code",
   "execution_count": null,
   "metadata": {},
   "outputs": [],
   "source": [
    "+#"
   ]
  }
 ],
 "metadata": {
  "kernelspec": {
   "display_name": "Python 3",
   "language": "python",
   "name": "python3"
  },
  "language_info": {
   "codemirror_mode": {
    "name": "ipython",
    "version": 3
   },
   "file_extension": ".py",
   "mimetype": "text/x-python",
   "name": "python",
   "nbconvert_exporter": "python",
   "pygments_lexer": "ipython3",
   "version": "3.7.3"
  }
 },
 "nbformat": 4,
 "nbformat_minor": 2
}
